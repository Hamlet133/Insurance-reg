{
 "cells": [
  {
   "cell_type": "markdown",
   "id": "253906c8",
   "metadata": {},
   "source": [
    "# Big Idea"
   ]
  },
  {
   "cell_type": "markdown",
   "id": "69377289",
   "metadata": {},
   "source": [
    "I made this pet project to improve at:\n",
    "* __aesthetics:__ markdown, matplotlib, structure, design\n",
    "* __modeling:__ cross validation to detect underfitting and underfitting, new models, remedial measures, bring more stats\n",
    "* __code:__ EDA\n",
    "* __design:__ explanations of the steps"
   ]
  },
  {
   "cell_type": "markdown",
   "id": "45d1b7ca",
   "metadata": {},
   "source": [
    "# Preliminaries"
   ]
  },
  {
   "cell_type": "markdown",
   "id": "3cbead8a",
   "metadata": {},
   "source": [
    "## Libraries"
   ]
  },
  {
   "cell_type": "code",
   "execution_count": 98,
   "id": "f72d6bbf",
   "metadata": {},
   "outputs": [],
   "source": [
    "import pandas as pd\n",
    "import matplotlib.pyplot as plt\n",
    "import seaborn as sns\n",
    "import numpy as np \n",
    "import scipy.stats as stats\n",
    "from sklearn.pipeline import Pipeline\n",
    "from sklearn.preprocessing import StandardScaler, OneHotEncoder\n",
    "from sklearn.model_selection import train_test_split\n",
    "from sklearn.compose import ColumnTransformer\n",
    "from sklearn.linear_model import LinearRegression\n",
    "from sklearn.metrics import r2_score\n",
    "from sklearn.metrics import  mean_squared_error as mse"
   ]
  },
  {
   "cell_type": "markdown",
   "id": "dbb4e82f",
   "metadata": {},
   "source": [
    "## Misc"
   ]
  },
  {
   "cell_type": "code",
   "execution_count": 99,
   "id": "ab279a22",
   "metadata": {},
   "outputs": [],
   "source": [
    "from pandas.core.common import SettingWithCopyWarning\n",
    "import warnings\n",
    "\n",
    "warnings.simplefilter(action=\"ignore\", category=SettingWithCopyWarning)"
   ]
  },
  {
   "cell_type": "markdown",
   "id": "f635daf0",
   "metadata": {},
   "source": [
    "## Data"
   ]
  },
  {
   "cell_type": "code",
   "execution_count": 100,
   "id": "c5d832e5",
   "metadata": {},
   "outputs": [],
   "source": [
    "insurance = pd.read_csv(r\"C:\\Users\\Henryk-Mariusz\\Desktop\\Spyder Scripts\\datasets\\insurance\\insurance.csv\")"
   ]
  },
  {
   "cell_type": "markdown",
   "id": "286bc8a4",
   "metadata": {},
   "source": [
    "# EDA"
   ]
  },
  {
   "cell_type": "code",
   "execution_count": 101,
   "id": "82e9137e",
   "metadata": {},
   "outputs": [
    {
     "data": {
      "text/plain": [
       "(1338, 7)"
      ]
     },
     "execution_count": 101,
     "metadata": {},
     "output_type": "execute_result"
    }
   ],
   "source": [
    "insurance.shape"
   ]
  },
  {
   "cell_type": "code",
   "execution_count": 102,
   "id": "b16757c5",
   "metadata": {},
   "outputs": [
    {
     "data": {
      "text/html": [
       "<div>\n",
       "<style scoped>\n",
       "    .dataframe tbody tr th:only-of-type {\n",
       "        vertical-align: middle;\n",
       "    }\n",
       "\n",
       "    .dataframe tbody tr th {\n",
       "        vertical-align: top;\n",
       "    }\n",
       "\n",
       "    .dataframe thead th {\n",
       "        text-align: right;\n",
       "    }\n",
       "</style>\n",
       "<table border=\"1\" class=\"dataframe\">\n",
       "  <thead>\n",
       "    <tr style=\"text-align: right;\">\n",
       "      <th></th>\n",
       "      <th>age</th>\n",
       "      <th>sex</th>\n",
       "      <th>bmi</th>\n",
       "      <th>children</th>\n",
       "      <th>smoker</th>\n",
       "      <th>region</th>\n",
       "      <th>charges</th>\n",
       "    </tr>\n",
       "  </thead>\n",
       "  <tbody>\n",
       "    <tr>\n",
       "      <th>0</th>\n",
       "      <td>19</td>\n",
       "      <td>female</td>\n",
       "      <td>27.900</td>\n",
       "      <td>0</td>\n",
       "      <td>yes</td>\n",
       "      <td>southwest</td>\n",
       "      <td>16884.92400</td>\n",
       "    </tr>\n",
       "    <tr>\n",
       "      <th>1</th>\n",
       "      <td>18</td>\n",
       "      <td>male</td>\n",
       "      <td>33.770</td>\n",
       "      <td>1</td>\n",
       "      <td>no</td>\n",
       "      <td>southeast</td>\n",
       "      <td>1725.55230</td>\n",
       "    </tr>\n",
       "    <tr>\n",
       "      <th>2</th>\n",
       "      <td>28</td>\n",
       "      <td>male</td>\n",
       "      <td>33.000</td>\n",
       "      <td>3</td>\n",
       "      <td>no</td>\n",
       "      <td>southeast</td>\n",
       "      <td>4449.46200</td>\n",
       "    </tr>\n",
       "    <tr>\n",
       "      <th>3</th>\n",
       "      <td>33</td>\n",
       "      <td>male</td>\n",
       "      <td>22.705</td>\n",
       "      <td>0</td>\n",
       "      <td>no</td>\n",
       "      <td>northwest</td>\n",
       "      <td>21984.47061</td>\n",
       "    </tr>\n",
       "    <tr>\n",
       "      <th>4</th>\n",
       "      <td>32</td>\n",
       "      <td>male</td>\n",
       "      <td>28.880</td>\n",
       "      <td>0</td>\n",
       "      <td>no</td>\n",
       "      <td>northwest</td>\n",
       "      <td>3866.85520</td>\n",
       "    </tr>\n",
       "  </tbody>\n",
       "</table>\n",
       "</div>"
      ],
      "text/plain": [
       "   age     sex     bmi  children smoker     region      charges\n",
       "0   19  female  27.900         0    yes  southwest  16884.92400\n",
       "1   18    male  33.770         1     no  southeast   1725.55230\n",
       "2   28    male  33.000         3     no  southeast   4449.46200\n",
       "3   33    male  22.705         0     no  northwest  21984.47061\n",
       "4   32    male  28.880         0     no  northwest   3866.85520"
      ]
     },
     "execution_count": 102,
     "metadata": {},
     "output_type": "execute_result"
    }
   ],
   "source": [
    "insurance.head()"
   ]
  },
  {
   "cell_type": "code",
   "execution_count": 103,
   "id": "8980fcfb",
   "metadata": {},
   "outputs": [
    {
     "data": {
      "text/plain": [
       "age           int64\n",
       "sex          object\n",
       "bmi         float64\n",
       "children      int64\n",
       "smoker       object\n",
       "region       object\n",
       "charges     float64\n",
       "dtype: object"
      ]
     },
     "execution_count": 103,
     "metadata": {},
     "output_type": "execute_result"
    }
   ],
   "source": [
    "insurance.dtypes"
   ]
  },
  {
   "cell_type": "markdown",
   "id": "dbc732a0",
   "metadata": {},
   "source": [
    "The dataset `insurance` contains nearly 1400 observations across 7 different features with all of the features properly labeled with the respect to `.dtypes` and descriptive names"
   ]
  },
  {
   "cell_type": "markdown",
   "id": "92b7edaa",
   "metadata": {},
   "source": [
    "## Numerical features"
   ]
  },
  {
   "cell_type": "code",
   "execution_count": 104,
   "id": "b5c4e51e",
   "metadata": {},
   "outputs": [
    {
     "data": {
      "text/html": [
       "<div>\n",
       "<style scoped>\n",
       "    .dataframe tbody tr th:only-of-type {\n",
       "        vertical-align: middle;\n",
       "    }\n",
       "\n",
       "    .dataframe tbody tr th {\n",
       "        vertical-align: top;\n",
       "    }\n",
       "\n",
       "    .dataframe thead th {\n",
       "        text-align: right;\n",
       "    }\n",
       "</style>\n",
       "<table border=\"1\" class=\"dataframe\">\n",
       "  <thead>\n",
       "    <tr style=\"text-align: right;\">\n",
       "      <th></th>\n",
       "      <th>age</th>\n",
       "      <th>bmi</th>\n",
       "      <th>children</th>\n",
       "      <th>charges</th>\n",
       "    </tr>\n",
       "  </thead>\n",
       "  <tbody>\n",
       "    <tr>\n",
       "      <th>count</th>\n",
       "      <td>1338.000000</td>\n",
       "      <td>1338.000000</td>\n",
       "      <td>1338.000000</td>\n",
       "      <td>1338.000000</td>\n",
       "    </tr>\n",
       "    <tr>\n",
       "      <th>mean</th>\n",
       "      <td>39.207025</td>\n",
       "      <td>30.663397</td>\n",
       "      <td>1.094918</td>\n",
       "      <td>13270.422265</td>\n",
       "    </tr>\n",
       "    <tr>\n",
       "      <th>std</th>\n",
       "      <td>14.049960</td>\n",
       "      <td>6.098187</td>\n",
       "      <td>1.205493</td>\n",
       "      <td>12110.011237</td>\n",
       "    </tr>\n",
       "    <tr>\n",
       "      <th>min</th>\n",
       "      <td>18.000000</td>\n",
       "      <td>15.960000</td>\n",
       "      <td>0.000000</td>\n",
       "      <td>1121.873900</td>\n",
       "    </tr>\n",
       "    <tr>\n",
       "      <th>25%</th>\n",
       "      <td>27.000000</td>\n",
       "      <td>26.296250</td>\n",
       "      <td>0.000000</td>\n",
       "      <td>4740.287150</td>\n",
       "    </tr>\n",
       "    <tr>\n",
       "      <th>50%</th>\n",
       "      <td>39.000000</td>\n",
       "      <td>30.400000</td>\n",
       "      <td>1.000000</td>\n",
       "      <td>9382.033000</td>\n",
       "    </tr>\n",
       "    <tr>\n",
       "      <th>75%</th>\n",
       "      <td>51.000000</td>\n",
       "      <td>34.693750</td>\n",
       "      <td>2.000000</td>\n",
       "      <td>16639.912515</td>\n",
       "    </tr>\n",
       "    <tr>\n",
       "      <th>max</th>\n",
       "      <td>64.000000</td>\n",
       "      <td>53.130000</td>\n",
       "      <td>5.000000</td>\n",
       "      <td>63770.428010</td>\n",
       "    </tr>\n",
       "  </tbody>\n",
       "</table>\n",
       "</div>"
      ],
      "text/plain": [
       "               age          bmi     children       charges\n",
       "count  1338.000000  1338.000000  1338.000000   1338.000000\n",
       "mean     39.207025    30.663397     1.094918  13270.422265\n",
       "std      14.049960     6.098187     1.205493  12110.011237\n",
       "min      18.000000    15.960000     0.000000   1121.873900\n",
       "25%      27.000000    26.296250     0.000000   4740.287150\n",
       "50%      39.000000    30.400000     1.000000   9382.033000\n",
       "75%      51.000000    34.693750     2.000000  16639.912515\n",
       "max      64.000000    53.130000     5.000000  63770.428010"
      ]
     },
     "execution_count": 104,
     "metadata": {},
     "output_type": "execute_result"
    }
   ],
   "source": [
    "insurance.describe()"
   ]
  },
  {
   "cell_type": "markdown",
   "id": "3ea70645",
   "metadata": {},
   "source": [
    "The `count` tells the amount of values excluding `np.nan`, which tells me there aren't any missing values"
   ]
  },
  {
   "cell_type": "markdown",
   "id": "807e7f1a",
   "metadata": {},
   "source": [
    "__Here are some observations:__\n",
    "* `age` which reports an age of a patient is roughly 39, with voting age 18 as min while the oldest is 64\n",
    "* `bmi` reports body mass index, which in this example tells how \"fit\" a person is\n",
    "* `childre` most patients have 1 child, with max of 5\n",
    "* `charges` relate to the total bill at the hospital with `mean` and `median` significantly apart from each other; which is an indicator of skeweness"
   ]
  },
  {
   "cell_type": "code",
   "execution_count": 105,
   "id": "9c18328a",
   "metadata": {},
   "outputs": [
    {
     "data": {
      "image/png": "[encoded data removed]",
      "text/plain": [
       "<Figure size 1008x1008 with 4 Axes>"
      ]
     },
     "metadata": {
      "needs_background": "light"
     },
     "output_type": "display_data"
    }
   ],
   "source": [
    "insurance.hist(figsize=(14,14))\n",
    "plt.show()"
   ]
  },
  {
   "cell_type": "markdown",
   "id": "0adb4516",
   "metadata": {},
   "source": [
    "__There are some significant patterns worth mentioning:__\n",
    "* `age` seems uniformly distributed, with an exception of the most people with most patients around age of 20\n",
    "* `bmi` seems to be uniformly distributed, with a positive skew\n",
    "* `children` are dicrete, exponentially distributed with msot people having no children; as probably related to young age\n",
    "* `charges` which mostly relate around low cost, but the positive skew indicating that there are people that paid a lot, I'll apply a transformation to improve normality"
   ]
  },
  {
   "cell_type": "markdown",
   "id": "f2560958",
   "metadata": {},
   "source": [
    "## Categorical features"
   ]
  },
  {
   "cell_type": "markdown",
   "id": "a5d2fdbc",
   "metadata": {},
   "source": [
    "Lets investigate features that were not displayed by the previous commands"
   ]
  },
  {
   "cell_type": "code",
   "execution_count": 106,
   "id": "501595d0",
   "metadata": {},
   "outputs": [
    {
     "data": {
      "text/html": [
       "<div>\n",
       "<style scoped>\n",
       "    .dataframe tbody tr th:only-of-type {\n",
       "        vertical-align: middle;\n",
       "    }\n",
       "\n",
       "    .dataframe tbody tr th {\n",
       "        vertical-align: top;\n",
       "    }\n",
       "\n",
       "    .dataframe thead th {\n",
       "        text-align: right;\n",
       "    }\n",
       "</style>\n",
       "<table border=\"1\" class=\"dataframe\">\n",
       "  <thead>\n",
       "    <tr style=\"text-align: right;\">\n",
       "      <th></th>\n",
       "      <th>sex</th>\n",
       "      <th>smoker</th>\n",
       "      <th>region</th>\n",
       "    </tr>\n",
       "  </thead>\n",
       "  <tbody>\n",
       "    <tr>\n",
       "      <th>count</th>\n",
       "      <td>1338</td>\n",
       "      <td>1338</td>\n",
       "      <td>1338</td>\n",
       "    </tr>\n",
       "    <tr>\n",
       "      <th>unique</th>\n",
       "      <td>2</td>\n",
       "      <td>2</td>\n",
       "      <td>4</td>\n",
       "    </tr>\n",
       "    <tr>\n",
       "      <th>top</th>\n",
       "      <td>male</td>\n",
       "      <td>no</td>\n",
       "      <td>southeast</td>\n",
       "    </tr>\n",
       "    <tr>\n",
       "      <th>freq</th>\n",
       "      <td>676</td>\n",
       "      <td>1064</td>\n",
       "      <td>364</td>\n",
       "    </tr>\n",
       "  </tbody>\n",
       "</table>\n",
       "</div>"
      ],
      "text/plain": [
       "         sex smoker     region\n",
       "count   1338   1338       1338\n",
       "unique     2      2          4\n",
       "top     male     no  southeast\n",
       "freq     676   1064        364"
      ]
     },
     "execution_count": 106,
     "metadata": {},
     "output_type": "execute_result"
    }
   ],
   "source": [
    "insurance.describe(include='object')"
   ]
  },
  {
   "cell_type": "markdown",
   "id": "d4e0c57f",
   "metadata": {},
   "source": [
    "__We can see that we have:__\n",
    "* `sex` two categories\n",
    "* `smoker` two categories\n",
    "* `region` 4 categories\n",
    ">what's the point of all of this? bring more info"
   ]
  },
  {
   "cell_type": "markdown",
   "id": "f6534db0",
   "metadata": {},
   "source": [
    "Lets look at their distributions!\n",
    ">more insight, different tone"
   ]
  },
  {
   "cell_type": "code",
   "execution_count": 107,
   "id": "57a5c291",
   "metadata": {},
   "outputs": [
    {
     "data": {
      "image/png": "[encoded data removed]",
      "text/plain": [
       "<Figure size 432x288 with 1 Axes>"
      ]
     },
     "metadata": {
      "needs_background": "light"
     },
     "output_type": "display_data"
    },
    {
     "data": {
      "image/png": "[encoded data removed]",
      "text/plain": [
       "<Figure size 432x288 with 1 Axes>"
      ]
     },
     "metadata": {
      "needs_background": "light"
     },
     "output_type": "display_data"
    },
    {
     "data": {
      "image/png": "[encoded data removed]",
      "text/plain": [
       "<Figure size 432x288 with 1 Axes>"
      ]
     },
     "metadata": {
      "needs_background": "light"
     },
     "output_type": "display_data"
    }
   ],
   "source": [
    "for column in insurance.select_dtypes(include='object'):\n",
    "        sns.countplot(y=column, data=insurance) # all of them got less than 10 categories\n",
    "        plt.show()"
   ]
  },
  {
   "cell_type": "markdown",
   "id": "0f57a8f8",
   "metadata": {},
   "source": [
    "`sex` and `region` seems balanced while `smoker` isn't, the lack of equality between groups may affect it's power of explaining `charges`. In the worst case scenario the feature will be insignificant or regularization in LASSO will reduce it to 0"
   ]
  },
  {
   "cell_type": "code",
   "execution_count": 108,
   "id": "ee24124c",
   "metadata": {},
   "outputs": [
    {
     "data": {
      "image/png": "[encoded data removed]",
      "text/plain": [
       "<Figure size 432x288 with 1 Axes>"
      ]
     },
     "metadata": {
      "needs_background": "light"
     },
     "output_type": "display_data"
    },
    {
     "data": {
      "image/png": "[encoded data removed]",
      "text/plain": [
       "<Figure size 432x288 with 1 Axes>"
      ]
     },
     "metadata": {
      "needs_background": "light"
     },
     "output_type": "display_data"
    },
    {
     "data": {
      "image/png": "[encoded data removed]",
      "text/plain": [
       "<Figure size 432x288 with 1 Axes>"
      ]
     },
     "metadata": {
      "needs_background": "light"
     },
     "output_type": "display_data"
    }
   ],
   "source": [
    "for column in insurance.select_dtypes(include='object'):\n",
    "    sns.boxplot(data=insurance, y=column, x='charges')\n",
    "    plt.show()"
   ]
  },
  {
   "cell_type": "markdown",
   "id": "ca8220b5",
   "metadata": {},
   "source": [
    "I don't see all the patterns yet but I'll comment and discover it as I go along:\n",
    "* `smoker` categorical boxplots seem to have 2 significanly different distributions but `smoker=No=0` have outliers that paid significatly more. Furthermore, on the same note `smoker=Yes=1` don't have outliers in the group of `smoker=No=0`\n",
    "*`region=southeast` seem to have more and stronger outliers, I wonder if scaling, power transforming features on the category level would improve the model?"
   ]
  },
  {
   "cell_type": "markdown",
   "id": "8990b14d",
   "metadata": {},
   "source": [
    "### Are smokers spending more on healthcare?"
   ]
  },
  {
   "cell_type": "markdown",
   "id": "783926ba",
   "metadata": {},
   "source": [
    "As this is a tutorial project, I'd like to do it right and test ANOVA's assumptions first which are similar to regression assumptions, as underneath ANOVA there's a regression model as described on [Cross Validated](https://stats.stackexchange.com/questions/1637/if-the-t-test-and-the-anova-for-two-groups-are-equivalent-why-arent-their-assu \"https://stats.stackexchange.com/questions/1637/if-the-t-test-and-the-anova-for-two-groups-are-equivalent-why-arent-their-assu\"), [ANOVA tutorial in Python](https://www.reneshbedre.com/blog/anova.html\"https://www.reneshbedre.com/blog/anova.html\")"
   ]
  },
  {
   "cell_type": "markdown",
   "id": "a6a797b7",
   "metadata": {},
   "source": [
    "__Assumptions:__\n",
    "* Homoscadacity aka simliar variance \n",
    "* Normality of each group\n",
    "* Independence of observations"
   ]
  },
  {
   "cell_type": "code",
   "execution_count": 109,
   "id": "7796c0a3",
   "metadata": {},
   "outputs": [
    {
     "data": {
      "image/png": "[encoded data removed]",
      "text/plain": [
       "<Figure size 432x288 with 1 Axes>"
      ]
     },
     "metadata": {
      "needs_background": "light"
     },
     "output_type": "display_data"
    },
    {
     "data": {
      "image/png": "[encoded data removed]",
      "text/plain": [
       "<Figure size 432x288 with 1 Axes>"
      ]
     },
     "metadata": {
      "needs_background": "light"
     },
     "output_type": "display_data"
    }
   ],
   "source": [
    "is_smoker = insurance['smoker'].unique()\n",
    "for group in is_smoker:\n",
    "    stats.probplot(insurance[insurance['smoker'] == group]['charges'], dist=\"norm\", plot=plt)\n",
    "    plt.title(\"QQ-plot, smokers? - \" +  group)\n",
    "    plt.show()\n",
    "\n",
    "#make a function from that, is there a qq-plot in statsmodel?"
   ]
  },
  {
   "cell_type": "markdown",
   "id": "d2bb48b9",
   "metadata": {},
   "source": [
    "Doesn't look normal to me. But the good news is that ANOVA is a robust in regards to normality. What does robust mean? Also, I could do Wilk-Shapiro, but it had some restriction about the size"
   ]
  },
  {
   "cell_type": "markdown",
   "id": "e1219944",
   "metadata": {},
   "source": [
    "## Relationship plots"
   ]
  },
  {
   "cell_type": "code",
   "execution_count": 110,
   "id": "75aedde0",
   "metadata": {},
   "outputs": [],
   "source": [
    "insurance_corr = insurance.corr()"
   ]
  },
  {
   "cell_type": "code",
   "execution_count": 111,
   "id": "c3012f64",
   "metadata": {},
   "outputs": [
    {
     "data": {
      "text/plain": [
       "<AxesSubplot:>"
      ]
     },
     "execution_count": 111,
     "metadata": {},
     "output_type": "execute_result"
    },
    {
     "data": {
      "image/png": "[encoded data removed]",
      "text/plain": [
       "<Figure size 432x288 with 2 Axes>"
      ]
     },
     "metadata": {
      "needs_background": "light"
     },
     "output_type": "display_data"
    }
   ],
   "source": [
    "sns.heatmap(insurance_corr, cmap='RdBu_r', annot=True)"
   ]
  },
  {
   "cell_type": "markdown",
   "id": "c02975c4",
   "metadata": {},
   "source": [
    "There doesn't seem to exist a strong relationship between the numerical features, and the strongest relationship exists between `charges` vs `age`. It might be difficult to create a good model with high r_square"
   ]
  },
  {
   "cell_type": "markdown",
   "id": "ef220866",
   "metadata": {},
   "source": [
    "## Dividing data into train and test"
   ]
  },
  {
   "cell_type": "markdown",
   "id": "4fe72947",
   "metadata": {},
   "source": [
    "The data should be devided in two sets, __train__ and __test__ to see how's the model performing on an unseen data"
   ]
  },
  {
   "cell_type": "code",
   "execution_count": 112,
   "id": "8f1e613a",
   "metadata": {},
   "outputs": [],
   "source": [
    "X, y = insurance.drop(['charges'], axis=1), insurance.charges"
   ]
  },
  {
   "cell_type": "code",
   "execution_count": 113,
   "id": "0fd245d9",
   "metadata": {},
   "outputs": [],
   "source": [
    "X_train, X_test, y_train, y_test = train_test_split(X, y, test_size=0.2, random_state=42, shuffle=True)"
   ]
  },
  {
   "cell_type": "markdown",
   "id": "f8b711fa",
   "metadata": {},
   "source": [
    "# Pipeline"
   ]
  },
  {
   "cell_type": "markdown",
   "id": "a701a533",
   "metadata": {},
   "source": [
    "Now that I explored the data, it's time to create a `Pipeline` to stream line the process of exploration"
   ]
  },
  {
   "cell_type": "code",
   "execution_count": 114,
   "id": "b0c0857f",
   "metadata": {},
   "outputs": [],
   "source": [
    "num_cols = list(X_train[['age','bmi']].columns)"
   ]
  },
  {
   "cell_type": "code",
   "execution_count": 115,
   "id": "2294d928",
   "metadata": {},
   "outputs": [],
   "source": [
    "cat_cols = list(X_train[['sex','smoker','region','children']].columns)"
   ]
  },
  {
   "cell_type": "markdown",
   "id": "6a889c1f",
   "metadata": {},
   "source": [
    "The pipeline does different transformation according to the category of a feature, hence `num_cols` and `cat_cols`"
   ]
  },
  {
   "cell_type": "code",
   "execution_count": 116,
   "id": "e5805846",
   "metadata": {},
   "outputs": [],
   "source": [
    "num_pipe = Pipeline([\n",
    "    ('scale', StandardScaler())\n",
    "])"
   ]
  },
  {
   "cell_type": "code",
   "execution_count": 117,
   "id": "092cf5f5",
   "metadata": {},
   "outputs": [],
   "source": [
    "full_pipe = ColumnTransformer([\n",
    "    ('num', num_pipe, num_cols),\n",
    "    ('cat', OneHotEncoder(), cat_cols)\n",
    "])"
   ]
  },
  {
   "cell_type": "code",
   "execution_count": 118,
   "id": "ef739e73",
   "metadata": {},
   "outputs": [],
   "source": [
    "X_train_trans = full_pipe.fit_transform(X_train)"
   ]
  },
  {
   "cell_type": "markdown",
   "id": "840a6494",
   "metadata": {},
   "source": [
    "Now with the data ready for the project it's time to select a set of best performing algorithms and compare it to the baseline"
   ]
  },
  {
   "cell_type": "markdown",
   "id": "5d30ef51",
   "metadata": {},
   "source": [
    "# Models"
   ]
  },
  {
   "cell_type": "markdown",
   "id": "e420be8d",
   "metadata": {},
   "source": [
    "Since this is a regression model, the very first I'd like to do is fit the most basic model and keep it as a baseline of performance to measure all the other, more advanced algorithms"
   ]
  },
  {
   "cell_type": "markdown",
   "id": "f4c14e16",
   "metadata": {},
   "source": [
    "## Baseline"
   ]
  },
  {
   "cell_type": "markdown",
   "id": "3336183e",
   "metadata": {},
   "source": [
    "For the baseline model I'll use `LinearRegression` model "
   ]
  },
  {
   "cell_type": "code",
   "execution_count": 119,
   "id": "ba1ac847",
   "metadata": {},
   "outputs": [],
   "source": [
    "lin_reg = LinearRegression()"
   ]
  },
  {
   "cell_type": "code",
   "execution_count": 120,
   "id": "10ff5b3c",
   "metadata": {},
   "outputs": [
    {
     "data": {
      "text/plain": [
       "LinearRegression(copy_X=True, fit_intercept=True, n_jobs=None, normalize=False)"
      ]
     },
     "execution_count": 120,
     "metadata": {},
     "output_type": "execute_result"
    }
   ],
   "source": [
    "lin_reg.fit(X_train_trans, y_train)"
   ]
  },
  {
   "cell_type": "markdown",
   "id": "fab6ed79",
   "metadata": {},
   "source": [
    "The model is ready for interpretation! "
   ]
  },
  {
   "cell_type": "code",
   "execution_count": 121,
   "id": "238c9212",
   "metadata": {},
   "outputs": [],
   "source": [
    "y_train_predict = lin_reg.predict(X_train_trans)"
   ]
  },
  {
   "cell_type": "code",
   "execution_count": 122,
   "id": "08bf4b01",
   "metadata": {},
   "outputs": [
    {
     "data": {
      "text/plain": [
       "0.7432126559011109"
      ]
     },
     "execution_count": 122,
     "metadata": {},
     "output_type": "execute_result"
    }
   ],
   "source": [
    "r2_score(y_train, y_train_predict)"
   ]
  },
  {
   "cell_type": "code",
   "execution_count": 123,
   "id": "5364f9e0",
   "metadata": {},
   "outputs": [
    {
     "data": {
      "text/plain": [
       "6087.942792141382"
      ]
     },
     "execution_count": 123,
     "metadata": {},
     "output_type": "execute_result"
    }
   ],
   "source": [
    "mse(y_train, lin_reg_predict, squared=False)"
   ]
  },
  {
   "cell_type": "markdown",
   "id": "aa5764f2",
   "metadata": {},
   "source": [
    "The model is ready, however, it will take a lot of time to fully process the "
   ]
  },
  {
   "cell_type": "markdown",
   "id": "2b2f0f24",
   "metadata": {},
   "source": [
    "### Log response"
   ]
  },
  {
   "cell_type": "markdown",
   "id": "5c0a46c7",
   "metadata": {},
   "source": [
    "The response variable is skewed, I want to see if applying a log transform would improve the situation"
   ]
  },
  {
   "cell_type": "code",
   "execution_count": 124,
   "id": "7961c4b9",
   "metadata": {},
   "outputs": [],
   "source": [
    "lin_reg_log = LinearRegression()"
   ]
  },
  {
   "cell_type": "code",
   "execution_count": 125,
   "id": "a4844438",
   "metadata": {},
   "outputs": [
    {
     "data": {
      "text/plain": [
       "LinearRegression(copy_X=True, fit_intercept=True, n_jobs=None, normalize=False)"
      ]
     },
     "execution_count": 125,
     "metadata": {},
     "output_type": "execute_result"
    }
   ],
   "source": [
    "lin_reg_log.fit(X_train_trans, y_train_log)"
   ]
  },
  {
   "cell_type": "code",
   "execution_count": 126,
   "id": "5dafdad6",
   "metadata": {},
   "outputs": [],
   "source": [
    "y_train_log_pred = lin_reg_log.predict(X_train_trans)"
   ]
  },
  {
   "cell_type": "code",
   "execution_count": 127,
   "id": "4b2c88dd",
   "metadata": {},
   "outputs": [],
   "source": [
    "y_train_log = np.log(y_train)"
   ]
  },
  {
   "cell_type": "code",
   "execution_count": 128,
   "id": "78336de3",
   "metadata": {},
   "outputs": [
    {
     "data": {
      "text/plain": [
       "0.7597504536055103"
      ]
     },
     "execution_count": 128,
     "metadata": {},
     "output_type": "execute_result"
    }
   ],
   "source": [
    "r2_score(y_train_log, y_train_log_pred)"
   ]
  },
  {
   "cell_type": "code",
   "execution_count": 130,
   "id": "1dfff8da",
   "metadata": {},
   "outputs": [
    {
     "data": {
      "text/plain": [
       "0.7597504536055103"
      ]
     },
     "execution_count": 130,
     "metadata": {},
     "output_type": "execute_result"
    }
   ],
   "source": [
    "lin_reg_log.score(X_train_trans, y_train_log)"
   ]
  },
  {
   "cell_type": "markdown",
   "id": "35fc90b8",
   "metadata": {},
   "source": [
    "I want to remove the code from below, it's about "
   ]
  },
  {
   "cell_type": "code",
   "execution_count": 132,
   "id": "6eda30cc",
   "metadata": {},
   "outputs": [],
   "source": [
    "from sklearn.linear_model import LogisticRegression"
   ]
  },
  {
   "cell_type": "code",
   "execution_count": 136,
   "id": "61c70d04",
   "metadata": {},
   "outputs": [],
   "source": [
    "clf = LogisticRegression()"
   ]
  },
  {
   "cell_type": "code",
   "execution_count": 133,
   "id": "f9bf9486",
   "metadata": {
    "scrolled": true
   },
   "outputs": [
    {
     "data": {
      "text/html": [
       "<div>\n",
       "<style scoped>\n",
       "    .dataframe tbody tr th:only-of-type {\n",
       "        vertical-align: middle;\n",
       "    }\n",
       "\n",
       "    .dataframe tbody tr th {\n",
       "        vertical-align: top;\n",
       "    }\n",
       "\n",
       "    .dataframe thead th {\n",
       "        text-align: right;\n",
       "    }\n",
       "</style>\n",
       "<table border=\"1\" class=\"dataframe\">\n",
       "  <thead>\n",
       "    <tr style=\"text-align: right;\">\n",
       "      <th></th>\n",
       "      <th>age</th>\n",
       "      <th>sex</th>\n",
       "      <th>bmi</th>\n",
       "      <th>children</th>\n",
       "      <th>smoker</th>\n",
       "      <th>region</th>\n",
       "      <th>charges</th>\n",
       "    </tr>\n",
       "  </thead>\n",
       "  <tbody>\n",
       "    <tr>\n",
       "      <th>0</th>\n",
       "      <td>19</td>\n",
       "      <td>female</td>\n",
       "      <td>27.900</td>\n",
       "      <td>0</td>\n",
       "      <td>yes</td>\n",
       "      <td>southwest</td>\n",
       "      <td>16884.92400</td>\n",
       "    </tr>\n",
       "    <tr>\n",
       "      <th>1</th>\n",
       "      <td>18</td>\n",
       "      <td>male</td>\n",
       "      <td>33.770</td>\n",
       "      <td>1</td>\n",
       "      <td>no</td>\n",
       "      <td>southeast</td>\n",
       "      <td>1725.55230</td>\n",
       "    </tr>\n",
       "    <tr>\n",
       "      <th>2</th>\n",
       "      <td>28</td>\n",
       "      <td>male</td>\n",
       "      <td>33.000</td>\n",
       "      <td>3</td>\n",
       "      <td>no</td>\n",
       "      <td>southeast</td>\n",
       "      <td>4449.46200</td>\n",
       "    </tr>\n",
       "    <tr>\n",
       "      <th>3</th>\n",
       "      <td>33</td>\n",
       "      <td>male</td>\n",
       "      <td>22.705</td>\n",
       "      <td>0</td>\n",
       "      <td>no</td>\n",
       "      <td>northwest</td>\n",
       "      <td>21984.47061</td>\n",
       "    </tr>\n",
       "    <tr>\n",
       "      <th>4</th>\n",
       "      <td>32</td>\n",
       "      <td>male</td>\n",
       "      <td>28.880</td>\n",
       "      <td>0</td>\n",
       "      <td>no</td>\n",
       "      <td>northwest</td>\n",
       "      <td>3866.85520</td>\n",
       "    </tr>\n",
       "  </tbody>\n",
       "</table>\n",
       "</div>"
      ],
      "text/plain": [
       "   age     sex     bmi  children smoker     region      charges\n",
       "0   19  female  27.900         0    yes  southwest  16884.92400\n",
       "1   18    male  33.770         1     no  southeast   1725.55230\n",
       "2   28    male  33.000         3     no  southeast   4449.46200\n",
       "3   33    male  22.705         0     no  northwest  21984.47061\n",
       "4   32    male  28.880         0     no  northwest   3866.85520"
      ]
     },
     "execution_count": 133,
     "metadata": {},
     "output_type": "execute_result"
    }
   ],
   "source": [
    "insurance.head()"
   ]
  },
  {
   "cell_type": "code",
   "execution_count": 134,
   "id": "15660509",
   "metadata": {},
   "outputs": [],
   "source": [
    "df = insurance.copy()"
   ]
  },
  {
   "cell_type": "code",
   "execution_count": null,
   "id": "4796aa64",
   "metadata": {},
   "outputs": [],
   "source": [
    "df['sex'].replace(0, 'Female',inplace=True)\n",
    "df['sex'].replace(1, 'Male',inplace=True)"
   ]
  },
  {
   "cell_type": "code",
   "execution_count": 143,
   "id": "2969ad20",
   "metadata": {},
   "outputs": [],
   "source": [
    "y_clf, X_clf = df['sex'], df.drop(['sex'], axis=1, inplace=False)"
   ]
  },
  {
   "cell_type": "code",
   "execution_count": 141,
   "id": "337f5d11",
   "metadata": {},
   "outputs": [],
   "source": [
    "num_cols_clf, cat_cols_clf = ['age','bmi','charges'], ['children','region']"
   ]
  },
  {
   "cell_type": "code",
   "execution_count": 149,
   "id": "e4b6c3cf",
   "metadata": {},
   "outputs": [],
   "source": [
    "full_pipe_clf = ColumnTransformer([\n",
    "    ('num', num_pipe, num_cols_clf),\n",
    "    ('cat', OneHotEncoder(), cat_cols_clf)\n",
    "])"
   ]
  },
  {
   "cell_type": "code",
   "execution_count": 146,
   "id": "d916e737",
   "metadata": {},
   "outputs": [],
   "source": [
    "df_piped = full_pipe_clf.fit_transform(X_clf)"
   ]
  },
  {
   "cell_type": "code",
   "execution_count": 147,
   "id": "43dbce03",
   "metadata": {},
   "outputs": [
    {
     "data": {
      "text/plain": [
       "LogisticRegression(C=1.0, class_weight=None, dual=False, fit_intercept=True,\n",
       "                   intercept_scaling=1, l1_ratio=None, max_iter=100,\n",
       "                   multi_class='auto', n_jobs=None, penalty='l2',\n",
       "                   random_state=None, solver='lbfgs', tol=0.0001, verbose=0,\n",
       "                   warm_start=False)"
      ]
     },
     "execution_count": 147,
     "metadata": {},
     "output_type": "execute_result"
    }
   ],
   "source": [
    "clf.fit(df_piped, y_clf)"
   ]
  },
  {
   "cell_type": "code",
   "execution_count": 148,
   "id": "90ebd9fe",
   "metadata": {},
   "outputs": [
    {
     "data": {
      "text/plain": [
       "0.515695067264574"
      ]
     },
     "execution_count": 148,
     "metadata": {},
     "output_type": "execute_result"
    }
   ],
   "source": [
    "clf.score(df_piped, y_clf)"
   ]
  },
  {
   "cell_type": "markdown",
   "id": "515cf966",
   "metadata": {},
   "source": [
    "## Wide search for the best model"
   ]
  },
  {
   "cell_type": "code",
   "execution_count": null,
   "id": "1af9f8e5",
   "metadata": {},
   "outputs": [],
   "source": []
  },
  {
   "cell_type": "code",
   "execution_count": null,
   "id": "2b4a1d49",
   "metadata": {},
   "outputs": [],
   "source": []
  },
  {
   "cell_type": "code",
   "execution_count": null,
   "id": "6c187762",
   "metadata": {},
   "outputs": [],
   "source": []
  },
  {
   "cell_type": "markdown",
   "id": "a488e126",
   "metadata": {},
   "source": [
    "# Conclusion"
   ]
  },
  {
   "cell_type": "code",
   "execution_count": null,
   "id": "d87e54d4",
   "metadata": {},
   "outputs": [],
   "source": []
  },
  {
   "cell_type": "code",
   "execution_count": null,
   "id": "c9c47136",
   "metadata": {},
   "outputs": [],
   "source": []
  },
  {
   "cell_type": "code",
   "execution_count": null,
   "id": "54f56086",
   "metadata": {},
   "outputs": [],
   "source": []
  }
 ],
 "metadata": {
  "kernelspec": {
   "display_name": "Python 3 (ipykernel)",
   "language": "python",
   "name": "python3"
  },
  "language_info": {
   "codemirror_mode": {
    "name": "ipython",
    "version": 3
   },
   "file_extension": ".py",
   "mimetype": "text/x-python",
   "name": "python",
   "nbconvert_exporter": "python",
   "pygments_lexer": "ipython3",
   "version": "3.8.8"
  },
  "toc": {
   "base_numbering": 1,
   "nav_menu": {},
   "number_sections": true,
   "sideBar": true,
   "skip_h1_title": false,
   "title_cell": "Table of Contents",
   "title_sidebar": "Contents",
   "toc_cell": false,
   "toc_position": {},
   "toc_section_display": true,
   "toc_window_display": true
  }
 },
 "nbformat": 4,
 "nbformat_minor": 5
}
